{
 "cells": [
  {
   "cell_type": "code",
   "execution_count": 2,
   "metadata": {},
   "outputs": [],
   "source": [
    "import numpy as np\n",
    "from numpy import linalg\n",
    "import cvxopt\n",
    "import cvxopt.solvers\n",
    "import pylab as pl"
   ]
  },
  {
   "cell_type": "code",
   "execution_count": 3,
   "metadata": {
    "collapsed": true
   },
   "outputs": [],
   "source": [
    "def linear_kernel(x1, x2):\n",
    "    return np.dot(x1, x2)"
   ]
  },
  {
   "cell_type": "code",
   "execution_count": 4,
   "metadata": {
    "collapsed": true
   },
   "outputs": [],
   "source": [
    "def polynomial_kernel(x, y, p=3):\n",
    "    return (1 + np.dot(x, y)) ** p"
   ]
  },
  {
   "cell_type": "code",
   "execution_count": 5,
   "metadata": {
    "collapsed": true
   },
   "outputs": [],
   "source": [
    "def gaussian_kernel(x, y, sigma=5.0):\n",
    "    return np.exp(-linalg.norm(x-y)**2 / (2 * (sigma ** 2)))"
   ]
  },
  {
   "cell_type": "code",
   "execution_count": 6,
   "metadata": {
    "collapsed": true
   },
   "outputs": [],
   "source": [
    "class SVM(object):\n",
    "\n",
    "    def __init__(self, kernel=linear_kernel, C=None):\n",
    "        self.kernel = kernel\n",
    "        self.C = C\n",
    "        if self.C is not None: self.C = float(self.C)\n",
    "\n",
    "    def fit(self, X, y):\n",
    "        n_samples, n_features = X.shape\n",
    "\n",
    "        # Gram matrix\n",
    "        K = np.zeros((n_samples, n_samples))\n",
    "        for i in range(n_samples):\n",
    "            for j in range(n_samples):\n",
    "                K[i,j] = self.kernel(X[i], X[j])\n",
    "\n",
    "        P = cvxopt.matrix(np.outer(y,y) * K)\n",
    "        q = cvxopt.matrix(np.ones(n_samples) * -1)\n",
    "        A = cvxopt.matrix(y, (1,n_samples))\n",
    "        b = cvxopt.matrix(0.0)\n",
    "\n",
    "        if self.C is None:\n",
    "            G = cvxopt.matrix(np.diag(np.ones(n_samples) * -1))\n",
    "            h = cvxopt.matrix(np.zeros(n_samples))\n",
    "        else:\n",
    "            tmp1 = np.diag(np.ones(n_samples) * -1)\n",
    "            tmp2 = np.identity(n_samples)\n",
    "            G = cvxopt.matrix(np.vstack((tmp1, tmp2)))\n",
    "            tmp1 = np.zeros(n_samples)\n",
    "            tmp2 = np.ones(n_samples) * self.C\n",
    "            h = cvxopt.matrix(np.hstack((tmp1, tmp2)))\n",
    "\n",
    "        # solve QP problem\n",
    "        solution = cvxopt.solvers.qp(P, q, G, h, A, b)\n",
    "\n",
    "        # Lagrange multipliers\n",
    "        a = np.ravel(solution['x'])\n",
    "\n",
    "        # Support vectors have non zero lagrange multipliers\n",
    "        sv = a > 1e-5\n",
    "        ind = np.arange(len(a))[sv]\n",
    "        self.a = a[sv]\n",
    "        self.sv = X[sv]\n",
    "        self.sv_y = y[sv]\n",
    "        print \"%d support vectors out of %d points\" % (len(self.a), n_samples)\n",
    "\n",
    "        # Intercept\n",
    "        self.b = 0\n",
    "        for n in range(len(self.a)):\n",
    "            self.b += self.sv_y[n]\n",
    "            self.b -= np.sum(self.a * self.sv_y * K[ind[n],sv])\n",
    "        self.b /= len(self.a)\n",
    "\n",
    "        # Weight vector\n",
    "        if self.kernel == linear_kernel:\n",
    "            self.w = np.zeros(n_features)\n",
    "            for n in range(len(self.a)):\n",
    "                self.w += self.a[n] * self.sv_y[n] * self.sv[n]\n",
    "        else:\n",
    "            self.w = None\n",
    "\n",
    "    def project(self, X):\n",
    "        if self.w is not None:\n",
    "            return np.dot(X, self.w) + self.b\n",
    "        else:\n",
    "            y_predict = np.zeros(len(X))\n",
    "            for i in range(len(X)):\n",
    "                s = 0\n",
    "                for a, sv_y, sv in zip(self.a, self.sv_y, self.sv):\n",
    "                    s += a * sv_y * self.kernel(X[i], sv)\n",
    "                y_predict[i] = s\n",
    "            return y_predict + self.b\n",
    "\n",
    "    def predict(self, X):\n",
    "        return np.sign(self.project(X))"
   ]
  },
  {
   "cell_type": "code",
   "execution_count": 7,
   "metadata": {
    "collapsed": true
   },
   "outputs": [],
   "source": [
    "def gen_lin_separable_data():\n",
    "    # generate training data in the 2-d case\n",
    "    mean1 = np.array([0, 2])\n",
    "    mean2 = np.array([2, 0])\n",
    "    cov = np.array([[0.8, 0.6], [0.6, 0.8]])\n",
    "    X1 = np.random.multivariate_normal(mean1, cov, 100)\n",
    "    y1 = np.ones(len(X1))\n",
    "    X2 = np.random.multivariate_normal(mean2, cov, 100)\n",
    "    y2 = np.ones(len(X2)) * -1\n",
    "    return X1, y1, X2, y2"
   ]
  },
  {
   "cell_type": "code",
   "execution_count": 8,
   "metadata": {
    "collapsed": true
   },
   "outputs": [],
   "source": [
    "def gen_non_lin_separable_data():\n",
    "    mean1 = [-1, 2]\n",
    "    mean2 = [1, -1]\n",
    "    mean3 = [4, -4]\n",
    "    mean4 = [-4, 4]\n",
    "    cov = [[1.0,0.8], [0.8, 1.0]]\n",
    "    X1 = np.random.multivariate_normal(mean1, cov, 50)\n",
    "    X1 = np.vstack((X1, np.random.multivariate_normal(mean3, cov, 50)))\n",
    "    y1 = np.ones(len(X1))\n",
    "    X2 = np.random.multivariate_normal(mean2, cov, 50)\n",
    "    X2 = np.vstack((X2, np.random.multivariate_normal(mean4, cov, 50)))\n",
    "    y2 = np.ones(len(X2)) * -1\n",
    "    return X1, y1, X2, y2"
   ]
  },
  {
   "cell_type": "code",
   "execution_count": 9,
   "metadata": {
    "collapsed": true
   },
   "outputs": [],
   "source": [
    "def gen_lin_separable_overlap_data():\n",
    "    # generate training data in the 2-d case\n",
    "    mean1 = np.array([0, 2])\n",
    "    mean2 = np.array([2, 0])\n",
    "    cov = np.array([[1.5, 1.0], [1.0, 1.5]])\n",
    "    X1 = np.random.multivariate_normal(mean1, cov, 100)\n",
    "    y1 = np.ones(len(X1))\n",
    "    X2 = np.random.multivariate_normal(mean2, cov, 100)\n",
    "    y2 = np.ones(len(X2)) * -1\n",
    "    return X1, y1, X2, y2"
   ]
  },
  {
   "cell_type": "code",
   "execution_count": 10,
   "metadata": {
    "collapsed": true
   },
   "outputs": [],
   "source": [
    "def split_train(X1, y1, X2, y2):\n",
    "    X1_train = X1[:90]\n",
    "    y1_train = y1[:90]\n",
    "    X2_train = X2[:90]\n",
    "    y2_train = y2[:90]\n",
    "    X_train = np.vstack((X1_train, X2_train))\n",
    "    y_train = np.hstack((y1_train, y2_train))\n",
    "    return X_train, y_train"
   ]
  },
  {
   "cell_type": "code",
   "execution_count": 11,
   "metadata": {
    "collapsed": true
   },
   "outputs": [],
   "source": [
    "def split_test(X1, y1, X2, y2):\n",
    "    X1_test = X1[90:]\n",
    "    y1_test = y1[90:]\n",
    "    X2_test = X2[90:]\n",
    "    y2_test = y2[90:]\n",
    "    X_test = np.vstack((X1_test, X2_test))\n",
    "    y_test = np.hstack((y1_test, y2_test))\n",
    "    return X_test, y_test"
   ]
  },
  {
   "cell_type": "code",
   "execution_count": 12,
   "metadata": {
    "collapsed": true
   },
   "outputs": [],
   "source": [
    "def plot_margin(X1_train, X2_train, clf):\n",
    "    def f(x, w, b, c=0):\n",
    "        # given x, return y such that [x,y] in on the line\n",
    "        # w.x + b = c\n",
    "        return (-w[0] * x - b + c) / w[1]\n",
    "\n",
    "    pl.plot(X1_train[:,0], X1_train[:,1], \"ro\")\n",
    "    pl.plot(X2_train[:,0], X2_train[:,1], \"bo\")\n",
    "    pl.scatter(clf.sv[:,0], clf.sv[:,1], s=100, c=\"g\")\n",
    "\n",
    "    # w.x + b = 0\n",
    "    a0 = -4; a1 = f(a0, clf.w, clf.b)\n",
    "    b0 = 4; b1 = f(b0, clf.w, clf.b)\n",
    "    pl.plot([a0,b0], [a1,b1], \"k\")\n",
    "\n",
    "    # w.x + b = 1\n",
    "    a0 = -4; a1 = f(a0, clf.w, clf.b, 1)\n",
    "    b0 = 4; b1 = f(b0, clf.w, clf.b, 1)\n",
    "    pl.plot([a0,b0], [a1,b1], \"k--\")\n",
    "\n",
    "    # w.x + b = -1\n",
    "    a0 = -4; a1 = f(a0, clf.w, clf.b, -1)\n",
    "    b0 = 4; b1 = f(b0, clf.w, clf.b, -1)\n",
    "    pl.plot([a0,b0], [a1,b1], \"k--\")\n",
    "\n",
    "    pl.axis(\"tight\")\n",
    "    pl.show()"
   ]
  },
  {
   "cell_type": "code",
   "execution_count": 13,
   "metadata": {
    "collapsed": true
   },
   "outputs": [],
   "source": [
    "def plot_contour(X1_train, X2_train, clf):\n",
    "    pl.plot(X1_train[:,0], X1_train[:,1], \"ro\")\n",
    "    pl.plot(X2_train[:,0], X2_train[:,1], \"bo\")\n",
    "    pl.scatter(clf.sv[:,0], clf.sv[:,1], s=100, c=\"g\")\n",
    "\n",
    "    X1, X2 = np.meshgrid(np.linspace(-6,6,50), np.linspace(-6,6,50))\n",
    "    X = np.array([[x1, x2] for x1, x2 in zip(np.ravel(X1), np.ravel(X2))])\n",
    "    Z = clf.project(X).reshape(X1.shape)\n",
    "    pl.contour(X1, X2, Z, [0.0], colors='k', linewidths=1, origin='lower')\n",
    "    pl.contour(X1, X2, Z + 1, [0.0], colors='grey', linewidths=1, origin='lower')\n",
    "    pl.contour(X1, X2, Z - 1, [0.0], colors='grey', linewidths=1, origin='lower')\n",
    "\n",
    "    pl.axis(\"tight\")\n",
    "    pl.show()"
   ]
  },
  {
   "cell_type": "code",
   "execution_count": 14,
   "metadata": {
    "collapsed": true
   },
   "outputs": [],
   "source": [
    "def test_linear():\n",
    "    X1, y1, X2, y2 = gen_lin_separable_data()\n",
    "    X_train, y_train = split_train(X1, y1, X2, y2)\n",
    "    X_test, y_test = split_test(X1, y1, X2, y2)\n",
    "\n",
    "    clf = SVM()\n",
    "    clf.fit(X_train, y_train)\n",
    "\n",
    "    y_predict = clf.predict(X_test)\n",
    "    correct = np.sum(y_predict == y_test)\n",
    "    print \"%d out of %d predictions correct\" % (correct, len(y_predict))\n",
    "\n",
    "    plot_margin(X_train[y_train==1], X_train[y_train==-1], clf)"
   ]
  },
  {
   "cell_type": "code",
   "execution_count": 15,
   "metadata": {
    "collapsed": true
   },
   "outputs": [],
   "source": [
    "def test_non_linear():\n",
    "    X1, y1, X2, y2 = gen_non_lin_separable_data()\n",
    "    X_train, y_train = split_train(X1, y1, X2, y2)\n",
    "    X_test, y_test = split_test(X1, y1, X2, y2)\n",
    "\n",
    "    clf = SVM(gaussian_kernel)\n",
    "    clf.fit(X_train, y_train)\n",
    "\n",
    "    y_predict = clf.predict(X_test)\n",
    "    correct = np.sum(y_predict == y_test)\n",
    "    print \"%d out of %d predictions correct\" % (correct, len(y_predict))\n",
    "\n",
    "    plot_contour(X_train[y_train==1], X_train[y_train==-1], clf)"
   ]
  },
  {
   "cell_type": "code",
   "execution_count": 16,
   "metadata": {
    "collapsed": true
   },
   "outputs": [],
   "source": [
    "def test_soft():\n",
    "    X1, y1, X2, y2 = gen_lin_separable_overlap_data()\n",
    "    X_train, y_train = split_train(X1, y1, X2, y2)\n",
    "    X_test, y_test = split_test(X1, y1, X2, y2)\n",
    "\n",
    "    clf = SVM(C=0.1)\n",
    "    clf.fit(X_train, y_train)\n",
    "\n",
    "    y_predict = clf.predict(X_test)\n",
    "    correct = np.sum(y_predict == y_test)\n",
    "    print \"%d out of %d predictions correct\" % (correct, len(y_predict))\n",
    "\n",
    "    plot_contour(X_train[y_train==1], X_train[y_train==-1], clf)"
   ]
  },
  {
   "cell_type": "code",
   "execution_count": 17,
   "metadata": {},
   "outputs": [
    {
     "name": "stdout",
     "output_type": "stream",
     "text": [
      "     pcost       dcost       gap    pres   dres\n",
      " 0: -1.9329e+01 -3.0717e+01  9e+02  2e+01  8e-15\n",
      " 1: -3.6786e+00 -2.8008e+01  7e+01  1e+00  8e-15\n",
      " 2: -1.7685e+00 -1.1562e+01  1e+01  1e-01  2e-15\n",
      " 3: -1.5923e+00 -3.0062e+00  2e+00  1e-02  2e-15\n",
      " 4: -1.8704e+00 -2.2451e+00  4e-01  3e-03  1e-15\n",
      " 5: -1.9596e+00 -2.0826e+00  1e-01  6e-04  1e-15\n",
      " 6: -1.9807e+00 -2.0394e+00  6e-02  2e-04  1e-15\n",
      " 7: -2.0027e+00 -2.0099e+00  7e-03  3e-06  1e-15\n",
      " 8: -2.0061e+00 -2.0062e+00  1e-04  5e-08  1e-15\n",
      " 9: -2.0061e+00 -2.0061e+00  1e-06  5e-10  1e-15\n",
      "Optimal solution found.\n",
      "30 support vectors out of 180 points\n",
      "18 out of 20 predictions correct\n"
     ]
    },
    {
     "data": {
      "image/png": "[encoded data removed]",
      "text/plain": [
       "<matplotlib.figure.Figure at 0x7fc953bbb790>"
      ]
     },
     "metadata": {},
     "output_type": "display_data"
    }
   ],
   "source": [
    "if __name__ == \"__main__\":\n",
    "    test_soft()"
   ]
  }
 ],
 "metadata": {
  "kernelspec": {
   "display_name": "Python 2",
   "language": "python",
   "name": "python2"
  },
  "language_info": {
   "codemirror_mode": {
    "name": "ipython",
    "version": 2
   },
   "file_extension": ".py",
   "mimetype": "text/x-python",
   "name": "python",
   "nbconvert_exporter": "python",
   "pygments_lexer": "ipython2",
   "version": "2.7.14"
  }
 },
 "nbformat": 4,
 "nbformat_minor": 2
}
