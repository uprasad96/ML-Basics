{
 "cells": [
  {
   "cell_type": "code",
   "execution_count": 1,
   "metadata": {
    "collapsed": true
   },
   "outputs": [],
   "source": [
    "# NLP + NB used \n",
    "data = []\n",
    "test = 'it was a good game'\n",
    "\n",
    "str_1 = 'a great game'\n",
    "str_2 = 'the election was over'\n",
    "str_3 = 'very clean match'\n",
    "str_4 = 'a clean but forgettable game'\n",
    "str_5 = 'it was a close election'\n",
    "labels = [1.0,0.0,1.0,1.0,0.0]\n",
    "\n",
    "data.append(str_1)\n",
    "data.append(str_2)\n",
    "data.append(str_3)\n",
    "data.append(str_4)\n",
    "data.append(str_5)\n",
    "\n",
    "for ix in range(len(data)):\n",
    "    data[ix] = data[ix].split(' ')"
   ]
  },
  {
   "cell_type": "code",
   "execution_count": 2,
   "metadata": {
    "collapsed": true
   },
   "outputs": [],
   "source": [
    "def get_probability(data):\n",
    "    total_count = 0\n",
    "    data_dict_yes = {}\n",
    "    data_dict_no = {}\n",
    "    for ix in range(len(data)):\n",
    "        for word in data[ix]:\n",
    "            if labels[ix] == 0:\n",
    "                if word in data_dict_no:\n",
    "                    data_dict_no[word] += 1.0\n",
    "                else :\n",
    "                    data_dict_no[word] = 1.0\n",
    "                    if word in data_dict_yes:\n",
    "                        pass\n",
    "                    else:\n",
    "                        total_count += 1.0\n",
    "            else :\n",
    "                if word in data_dict_yes:\n",
    "                    data_dict_yes[word] += 1.0\n",
    "                else :\n",
    "                    data_dict_yes[word] = 1.0\n",
    "                    if word in data_dict_no:\n",
    "                        pass\n",
    "                    else:\n",
    "                        total_count += 1.0\n",
    "\n",
    "    for ix in data_dict_yes:\n",
    "        data_dict_yes[ix] /= total_count\n",
    "\n",
    "    for ix in data_dict_no:\n",
    "        data_dict_no[ix] /= total_count\n",
    "\n",
    "    return data_dict_yes, data_dict_no"
   ]
  },
  {
   "cell_type": "code",
   "execution_count": 3,
   "metadata": {
    "collapsed": true
   },
   "outputs": [],
   "source": [
    "def get_prior(labels):\n",
    "    p_sports = 0\n",
    "    for ix in labels:\n",
    "        p_sports += ix\n",
    "    p_sports /= len(labels)\n",
    "    p_not = 1 - p_sports\n",
    "    return p_sports, p_not"
   ]
  },
  {
   "cell_type": "code",
   "execution_count": 4,
   "metadata": {
    "collapsed": true
   },
   "outputs": [],
   "source": [
    "def predict_func(test,data,labels):\n",
    "    test = test.split()\n",
    "\n",
    "    data_dict_yes, data_dict_no = get_probability(data)\n",
    "    p_sports, p_not = get_prior(labels)\n",
    "    test_0 = 1\n",
    "    test_1 = 1\n",
    "\n",
    "    for word in test:\n",
    "        if word in data_dict_no.keys():\n",
    "            test_0 *= data_dict_no[word]\n",
    "        else :\n",
    "            pass\n",
    "\n",
    "        if word in data_dict_yes.keys():\n",
    "            test_1 *= data_dict_yes[word]\n",
    "        else :\n",
    "            pass\n",
    "\n",
    "    test_0 *= p_not\n",
    "    test_1 *= p_sports\n",
    "\n",
    "    return test_0,test_1\n"
   ]
  },
  {
   "cell_type": "code",
   "execution_count": 5,
   "metadata": {},
   "outputs": [
    {
     "name": "stdout",
     "output_type": "stream",
     "text": [
      "(0.0002915451895043731, 0.04285714285714285)\n"
     ]
    }
   ],
   "source": [
    "test_not_sports,test_sports = predict_func(test, data, labels)\n",
    "\n",
    "print (test_not_sports, test_sports)"
   ]
  }
 ],
 "metadata": {
  "kernelspec": {
   "display_name": "Python 2",
   "language": "python",
   "name": "python2"
  },
  "language_info": {
   "codemirror_mode": {
    "name": "ipython",
    "version": 2
   },
   "file_extension": ".py",
   "mimetype": "text/x-python",
   "name": "python",
   "nbconvert_exporter": "python",
   "pygments_lexer": "ipython2",
   "version": "2.7.14"
  }
 },
 "nbformat": 4,
 "nbformat_minor": 2
}
