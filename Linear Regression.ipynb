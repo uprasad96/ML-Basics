{
 "cells": [
  {
   "cell_type": "code",
   "execution_count": 1,
   "metadata": {
    "collapsed": true
   },
   "outputs": [],
   "source": [
    "import numpy as np\n",
    "import matplotlib.pyplot as plt \n",
    "data_x = np.linspace(1.0, 10.0, 100)[:, np.newaxis]\n",
    "data_y = np.sin(data_x) + 0.1*np.power(data_x,2) + 0.5*np.random.randn(100,1)\n",
    "data_x /= np.max(data_x)"
   ]
  },
  {
   "cell_type": "code",
   "execution_count": 2,
   "metadata": {},
   "outputs": [
    {
     "data": {
      "image/png": "[encoded data removed]",
      "text/plain": [
       "<matplotlib.figure.Figure at 0x7fe38094b610>"
      ]
     },
     "metadata": {},
     "output_type": "display_data"
    }
   ],
   "source": [
    "plt.scatter(data_x,data_y)\n",
    "plt.show()\n",
    "data_x = np.hstack((np.ones_like(data_x), data_x))"
   ]
  },
  {
   "cell_type": "code",
   "execution_count": 3,
   "metadata": {
    "collapsed": true
   },
   "outputs": [],
   "source": [
    "order = np.random.permutation(len(data_x))\n",
    "portion = 20\n",
    "test_x = data_x[order[:portion]]\n",
    "test_y = data_y[order[:portion]]\n",
    "train_x = data_x[order[portion:]]\n",
    "train_y = data_y[order[portion:]]"
   ]
  },
  {
   "cell_type": "code",
   "execution_count": 4,
   "metadata": {
    "collapsed": true
   },
   "outputs": [],
   "source": [
    "def get_gradient(w, x, y):\n",
    "    y_estimate = x.dot(w).flatten()\n",
    "    error = (y.flatten() - y_estimate)\n",
    "    gradient = -(1.0/len(x)) * error.dot(x)\n",
    "    return gradient, np.power(error, 2)"
   ]
  },
  {
   "cell_type": "code",
   "execution_count": 5,
   "metadata": {
    "collapsed": true
   },
   "outputs": [],
   "source": [
    "w = np.random.randn(2)\n",
    "alpha = 0.5\n",
    "tolerance = 1e-9"
   ]
  },
  {
   "cell_type": "code",
   "execution_count": 6,
   "metadata": {
    "scrolled": true
   },
   "outputs": [
    {
     "name": "stdout",
     "output_type": "stream",
     "text": [
      "0 [  1.28706226e-01   8.64529104e+01   1.02999683e-01   1.24996934e+01\n",
      "   3.47218043e+01   1.66052804e-02   6.68430196e+01   7.50064713e-01\n",
      "   3.81661080e-01   2.76271774e-02   1.14482122e+00   9.34801999e-02\n",
      "   7.28373474e+01   6.57575523e-03   1.01790861e+01   1.74823867e-01\n",
      "   5.03360201e-01   2.64779396e+00   3.55222585e+01   5.32306115e+01\n",
      "   2.26052823e-01   1.69684264e-01   3.90078859e+01   5.91322447e-02\n",
      "   7.00693011e+01   5.92209733e+01   1.73468289e+01   2.50542033e+01\n",
      "   5.23349493e-03   2.00889601e+00   1.40334711e-02   2.38673935e+01\n",
      "   4.36236956e+01   2.22849828e+01   8.44621078e+01   1.00642090e+01\n",
      "   5.80961273e-04   3.10434378e+01   1.08427785e-01   3.97227489e+01\n",
      "   8.05939371e+01   1.63937064e-01   4.40397029e+01   1.14821587e+01\n",
      "   1.48592259e+01   5.41957231e+01   8.78530171e+00   6.36021606e+01\n",
      "   4.25751080e+00   2.51423001e-02   8.74843768e-01   2.46162250e-02\n",
      "   8.92071792e-04   1.42325189e-01   9.09455901e-03   5.77476764e-01\n",
      "   4.68412784e+01   5.04540631e-01   4.88757330e-01   3.61536328e-02\n",
      "   1.74679500e-03   1.54387700e-01   2.91595044e-03   8.85247466e+01\n",
      "   1.73891512e+01   5.62928497e+01   6.29818748e+01   7.67102701e-01\n",
      "   2.42392668e+01   4.14216082e-01   4.68619595e-02   6.07586339e+01\n",
      "   1.43396307e+01   5.45818221e-03   6.21535736e+01   5.38591407e+01\n",
      "   6.26002168e-03   3.29084239e-01   7.40885490e+01   3.00610523e+00]\n",
      "100 [  2.67698540e-01   2.31912750e+00   5.49026193e+00   2.82614530e-01\n",
      "   5.22768917e-01   3.36240212e+00   1.44566272e+00   9.39759810e-02\n",
      "   9.54257077e-01   3.98707758e+00   2.93457596e+00   1.34693858e-03\n",
      "   9.21170998e-01   2.14317864e+00   6.02828759e-01   3.13747029e-01\n",
      "   1.07330902e+00   4.70926665e+00   3.48250623e-01   1.04867806e+00\n",
      "   3.42392353e-01   2.24326937e-03   4.55986296e-01   6.28188726e+00\n",
      "   9.92955567e-01   2.32212550e+00   1.62601303e-01   1.86527835e-02\n",
      "   4.50202625e-01   2.39433037e+00   3.60487495e-03   1.36425947e-02\n",
      "   8.72813371e-01   1.21507380e-01   1.24219513e+00   3.52884189e-01\n",
      "   7.50858850e+00   1.03061347e-02   1.24445207e+00   5.34309738e-02\n",
      "   1.00368520e+00   4.23841389e+00   7.48996247e-01   1.16519172e+00\n",
      "   1.70381617e-01   9.79458667e-01   3.62427112e-01   9.01055203e-02\n",
      "   1.96680831e+00   2.30981522e+00   4.39380734e+00   1.97341517e+00\n",
      "   1.70400117e-01   1.46445358e-01   3.83257045e+00   3.25416501e+00\n",
      "   7.37319477e-02   4.22272506e+00   2.75390003e+00   4.72312034e+00\n",
      "   1.40654216e+00   1.78668793e+00   9.78789040e-02   3.74141103e+00\n",
      "   3.90958420e-02   5.32738492e-01   5.81066242e-01   9.40624918e-01\n",
      "   1.19973243e-01   1.25107916e+00   2.13415851e+00   5.20078245e-01\n",
      "   1.44819949e-01   1.02943262e-03   3.71736089e-01   7.50931805e-01\n",
      "   9.30926347e-01   7.88193856e-01   5.35993710e-01   1.27845593e+00]\n",
      "200 [  1.20981195e-01   1.70999196e+00   5.29059238e+00   3.13031764e-01\n",
      "   4.08908116e-01   3.08088031e+00   1.05608118e+00   2.07823083e-01\n",
      "   6.68165725e-01   3.71892203e+00   3.69844954e+00   5.36326085e-02\n",
      "   5.69572988e-01   2.95702482e+00   6.38776679e-01   5.54864268e-01\n",
      "   1.69461084e+00   5.64108386e+00   2.46446353e-01   7.82854216e-01\n",
      "   2.12646363e-01   1.14534516e-02   3.26552753e-01   5.96881605e+00\n",
      "   6.42436312e-01   1.93114288e+00   2.08328338e-01   4.65059529e-03\n",
      "   7.85189436e-01   2.30902860e+00   5.50727488e-02   2.86058248e-03\n",
      "   6.81223039e-01   1.82401289e-01   7.81717791e-01   3.68120700e-01\n",
      "   7.30210734e+00   7.63041619e-06   1.86630457e+00   1.04076115e-02\n",
      "   6.02973527e-01   4.02248430e+00   5.64752899e-01   1.27141213e+00\n",
      "   2.03199100e-01   7.14623195e-01   3.65520016e-01   8.10667206e-03\n",
      "   1.95980382e+00   1.99088996e+00   3.90930720e+00   1.70587101e+00\n",
      "   3.75456184e-01   5.92855682e-02   3.51259056e+00   3.08306399e+00\n",
      "   1.37097141e-02   5.29203186e+00   2.34217924e+00   4.47357879e+00\n",
      "   2.02028220e+00   2.43963735e+00   2.20066686e-02   3.00765641e+00\n",
      "   5.79810414e-02   3.19582127e-01   3.33451196e-01   1.53930403e+00\n",
      "   1.89227367e-01   1.06079522e+00   2.89451617e+00   2.93116822e-01\n",
      "   1.70975944e-01   2.17896775e-02   1.76243917e-01   5.14344635e-01\n",
      "   1.42843478e+00   6.14729724e-01   2.61991984e-01   1.20519089e+00]\n",
      "300 [  1.14157791e-01   1.67712311e+00   5.27899000e+00   3.14865028e-01\n",
      "   4.02660267e-01   3.06474197e+00   1.03511536e+00   2.15889236e-01\n",
      "   6.52956423e-01   3.70347574e+00   3.74601790e+00   5.90605316e-02\n",
      "   5.51552890e-01   3.00884409e+00   6.40918557e-01   5.71134618e-01\n",
      "   1.73545898e+00   5.69837713e+00   2.41017532e-01   7.68459644e-01\n",
      "   2.05987818e-01   1.34746952e-02   3.19626807e-01   5.95069258e+00\n",
      "   6.24227873e-01   1.90931757e+00   2.11187527e-01   4.11939539e-03\n",
      "   8.07723057e-01   2.30407088e+00   5.99877672e-02   2.47692938e-03\n",
      "   6.70716432e-01   1.86357639e-01   7.57993151e-01   3.69024831e-01\n",
      "   7.29007978e+00   9.19940106e-06   1.90669780e+00   8.91885961e-03\n",
      "   5.82612791e-01   4.00998820e+00   5.54747525e-01   1.27778940e+00\n",
      "   2.05214663e-01   7.00375821e-01   3.65701926e-01   6.03813403e-03\n",
      "   1.95939316e+00   1.97291006e+00   3.88175411e+00   1.69077578e+00\n",
      "   3.89973363e-01   5.53744820e-02   3.49424631e+00   3.07316675e+00\n",
      "   1.16693980e-02   5.35852713e+00   2.31905309e+00   4.45914525e+00\n",
      "   2.05974080e+00   2.48110710e+00   1.92356061e-02   2.96708270e+00\n",
      "   5.92045114e-02   3.08756089e-01   3.21042605e-01   1.57899337e+00\n",
      "   1.93779463e-01   1.05011608e+00   2.94272844e+00   2.81805577e-01\n",
      "   1.72578275e-01   2.50141231e-02   1.67011927e-01   5.01847345e-01\n",
      "   1.46092604e+00   6.05219096e-01   2.48926846e-01   1.20095861e+00]\n",
      "400 [  1.13763524e-01   1.67520416e+00   5.27830954e+00   3.14972776e-01\n",
      "   4.02295117e-01   3.06379623e+00   1.03389155e+00   2.16367354e-01\n",
      "   6.52069330e-01   3.70257030e+00   3.74881880e+00   5.93871858e-02\n",
      "   5.50504410e-01   3.01189900e+00   6.41044361e-01   5.72096718e-01\n",
      "   1.73787119e+00   5.70174828e+00   2.40700829e-01   7.67619073e-01\n",
      "   2.05600363e-01   1.35984077e-02   3.19222676e-01   5.94962989e+00\n",
      "   6.23167474e-01   1.90804064e+00   2.11355919e-01   4.08922323e-03\n",
      "   8.09055306e-01   2.30378011e+00   6.02827214e-02   2.45527309e-03\n",
      "   6.70102406e-01   1.86591129e-01   7.56612268e-01   3.69077923e-01\n",
      "   7.28937427e+00   1.13780924e-05   1.90908164e+00   8.83506249e-03\n",
      "   5.81428819e-01   4.00925549e+00   5.54163155e-01   1.27816414e+00\n",
      "   2.05333252e-01   6.99544194e-01   3.65712602e-01   5.92619306e-03\n",
      "   1.95936907e+00   1.97185747e+00   3.88014023e+00   1.68989203e+00\n",
      "   3.90833832e-01   5.51491120e-02   3.49317130e+00   3.07258645e+00\n",
      "   1.15547692e-02   5.36244218e+00   2.31769954e+00   4.45829897e+00\n",
      "   2.06206822e+00   2.48355153e+00   1.90787813e-02   2.96471026e+00\n",
      "   5.92767054e-02   3.08126576e-01   3.20321737e-01   1.58133817e+00\n",
      "   1.94048276e-01   1.04949107e+00   2.94557007e+00   2.81148710e-01\n",
      "   1.72672537e-01   2.52102528e-02   1.66477878e-01   5.01118738e-01\n",
      "   1.46284409e+00   6.04663284e-01   2.48170521e-01   1.20071048e+00]\n",
      "500 [  1.13740408e-01   1.67509159e+00   5.27826960e+00   3.14979100e-01\n",
      "   4.02273694e-01   3.06374074e+00   1.03381975e+00   2.16395428e-01\n",
      "   6.52017292e-01   3.70251716e+00   3.74898320e+00   5.94063829e-02\n",
      "   5.50442912e-01   3.01207832e+00   6.41051744e-01   5.72153203e-01\n",
      "   1.73801280e+00   5.70194614e+00   2.40682251e-01   7.67569760e-01\n",
      "   2.05577637e-01   1.36056852e-02   3.19198968e-01   5.94956753e+00\n",
      "   6.23105274e-01   1.90796572e+00   2.11365803e-01   4.08745607e-03\n",
      "   8.09133520e-01   2.30376304e+00   6.03000528e-02   2.45400518e-03\n",
      "   6.70066382e-01   1.86604835e-01   7.56531272e-01   3.69081039e-01\n",
      "   7.28933287e+00   1.15131309e-05   1.90922158e+00   8.83015729e-03\n",
      "   5.81359377e-01   4.00921250e+00   5.54128872e-01   1.27818613e+00\n",
      "   2.05340212e-01   6.99495407e-01   3.65713229e-01   5.91965653e-03\n",
      "   1.95936765e+00   1.97179571e+00   3.88004553e+00   1.68984017e+00\n",
      "   3.90884357e-01   5.51359009e-02   3.49310822e+00   3.07255239e+00\n",
      "   1.15480599e-02   5.36267198e+00   2.31762012e+00   4.45824931e+00\n",
      "   2.06220484e+00   2.48369502e+00   1.90695983e-02   2.96457107e+00\n",
      "   5.92809434e-02   3.08089654e-01   3.20279459e-01   1.58147582e+00\n",
      "   1.94064056e-01   1.04945440e+00   2.94573687e+00   2.81110186e-01\n",
      "   1.72678069e-01   2.52217861e-02   1.66446565e-01   5.01075998e-01\n",
      "   1.46295668e+00   6.04630675e-01   2.48126174e-01   1.20069592e+00]\n",
      "600 [  1.13739051e-01   1.67508498e+00   5.27826726e+00   3.14979471e-01\n",
      "   4.02272437e-01   3.06373748e+00   1.03381554e+00   2.16397076e-01\n",
      "   6.52014238e-01   3.70251405e+00   3.74899285e+00   5.94075095e-02\n",
      "   5.50439304e-01   3.01208884e+00   6.41052177e-01   5.72156518e-01\n",
      "   1.73802111e+00   5.70195775e+00   2.40681161e-01   7.67566866e-01\n",
      "   2.05576303e-01   1.36061123e-02   3.19197577e-01   5.94956387e+00\n",
      "   6.23101624e-01   1.90796132e+00   2.11366383e-01   4.08735238e-03\n",
      "   8.09138110e-01   2.30376204e+00   6.03010699e-02   2.45393079e-03\n",
      "   6.70064268e-01   1.86605640e-01   7.56526519e-01   3.69081221e-01\n",
      "   7.28933044e+00   1.15210801e-05   1.90922979e+00   8.82986948e-03\n",
      "   5.81355303e-01   4.00920997e+00   5.54126860e-01   1.27818742e+00\n",
      "   2.05340620e-01   6.99492544e-01   3.65713265e-01   5.91927306e-03\n",
      "   1.95936757e+00   1.97179209e+00   3.88003998e+00   1.68983713e+00\n",
      "   3.90887322e-01   5.51351256e-02   3.49310452e+00   3.07255040e+00\n",
      "   1.15476663e-02   5.36268546e+00   2.31761546e+00   4.45824639e+00\n",
      "   2.06221285e+00   2.48370344e+00   1.90690594e-02   2.96456290e+00\n",
      "   5.92811921e-02   3.08087488e-01   3.20276978e-01   1.58148390e+00\n",
      "   1.94064982e-01   1.04945224e+00   2.94574665e+00   2.81107926e-01\n",
      "   1.72678394e-01   2.52224630e-02   1.66444727e-01   5.01073489e-01\n",
      "   1.46296329e+00   6.04628762e-01   2.48123571e-01   1.20069506e+00]\n",
      "700 [  1.13738972e-01   1.67508460e+00   5.27826712e+00   3.14979493e-01\n",
      "   4.02272363e-01   3.06373729e+00   1.03381529e+00   2.16397172e-01\n",
      "   6.52014059e-01   3.70251386e+00   3.74899342e+00   5.94075756e-02\n",
      "   5.50439092e-01   3.01208946e+00   6.41052203e-01   5.72156712e-01\n",
      "   1.73802160e+00   5.70195844e+00   2.40681097e-01   7.67566696e-01\n",
      "   2.05576225e-01   1.36061373e-02   3.19197495e-01   5.94956366e+00\n",
      "   6.23101410e-01   1.90796107e+00   2.11366417e-01   4.08734630e-03\n",
      "   8.09138380e-01   2.30376198e+00   6.03011296e-02   2.45392642e-03\n",
      "   6.70064144e-01   1.86605687e-01   7.56526241e-01   3.69081232e-01\n",
      "   7.28933030e+00   1.15215467e-05   1.90923027e+00   8.82985259e-03\n",
      "   5.81355063e-01   4.00920983e+00   5.54126742e-01   1.27818749e+00\n",
      "   2.05340644e-01   6.99492376e-01   3.65713267e-01   5.91925055e-03\n",
      "   1.95936756e+00   1.97179188e+00   3.88003965e+00   1.68983695e+00\n",
      "   3.90887496e-01   5.51350801e-02   3.49310430e+00   3.07255028e+00\n",
      "   1.15476432e-02   5.36268625e+00   2.31761519e+00   4.45824622e+00\n",
      "   2.06221333e+00   2.48370393e+00   1.90690278e-02   2.96456242e+00\n",
      "   5.92812067e-02   3.08087360e-01   3.20276833e-01   1.58148437e+00\n",
      "   1.94065037e-01   1.04945212e+00   2.94574723e+00   2.81107793e-01\n",
      "   1.72678413e-01   2.52225027e-02   1.66444620e-01   5.01073342e-01\n",
      "   1.46296368e+00   6.04628649e-01   2.48123419e-01   1.20069501e+00]\n",
      "Converged.\n"
     ]
    }
   ],
   "source": [
    "# Perform Gradient Descent\n",
    "iterations = 0\n",
    "while True:\n",
    "    gradient, error = get_gradient(w, train_x, train_y)\n",
    "    new_w = w - alpha * gradient\n",
    "    \n",
    "    # Stopping Condition\n",
    "    if np.sum(abs(new_w - w)) < tolerance:\n",
    "        print \"Converged.\"\n",
    "        break\n",
    "    \n",
    "    # Print error every 100 iterations\n",
    "    if iterations % 100 == 0:\n",
    "        print iterations, error\n",
    "    \n",
    "    iterations += 1\n",
    "    w = new_w"
   ]
  },
  {
   "cell_type": "code",
   "execution_count": 7,
   "metadata": {
    "collapsed": true
   },
   "outputs": [],
   "source": [
    "X=[]\n",
    "Y=[]\n",
    "for x in data_x:\n",
    "    X.append(x[1])\n",
    "    Y.append(w[0]+w[1]*x[1])"
   ]
  },
  {
   "cell_type": "code",
   "execution_count": 8,
   "metadata": {},
   "outputs": [
    {
     "data": {
      "image/png": "[encoded data removed]",
      "text/plain": [
       "<matplotlib.figure.Figure at 0x7fe38092af10>"
      ]
     },
     "metadata": {},
     "output_type": "display_data"
    }
   ],
   "source": [
    "plt.scatter(data_x[:,1],data_y)\n",
    "plt.plot(X,Y)\n",
    "plt.show()"
   ]
  }
 ],
 "metadata": {
  "kernelspec": {
   "display_name": "Python 2",
   "language": "python",
   "name": "python2"
  },
  "language_info": {
   "codemirror_mode": {
    "name": "ipython",
    "version": 2
   },
   "file_extension": ".py",
   "mimetype": "text/x-python",
   "name": "python",
   "nbconvert_exporter": "python",
   "pygments_lexer": "ipython2",
   "version": "2.7.14"
  }
 },
 "nbformat": 4,
 "nbformat_minor": 2
}
