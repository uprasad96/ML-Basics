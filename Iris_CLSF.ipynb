{
 "cells": [
  {
   "cell_type": "code",
   "execution_count": 1,
   "metadata": {
    "collapsed": true
   },
   "outputs": [],
   "source": [
    "from sklearn.datasets import load_iris"
   ]
  },
  {
   "cell_type": "code",
   "execution_count": 2,
   "metadata": {},
   "outputs": [
    {
     "data": {
      "text/plain": [
       "sklearn.utils.Bunch"
      ]
     },
     "execution_count": 2,
     "metadata": {},
     "output_type": "execute_result"
    }
   ],
   "source": [
    "iris = load_iris()\n",
    "type(iris)"
   ]
  },
  {
   "cell_type": "code",
   "execution_count": 3,
   "metadata": {},
   "outputs": [
    {
     "name": "stdout",
     "output_type": "stream",
     "text": [
      "[[ 5.1  3.5  1.4  0.2]\n",
      " [ 4.9  3.   1.4  0.2]\n",
      " [ 4.7  3.2  1.3  0.2]\n",
      " [ 4.6  3.1  1.5  0.2]\n",
      " [ 5.   3.6  1.4  0.2]\n",
      " [ 5.4  3.9  1.7  0.4]\n",
      " [ 4.6  3.4  1.4  0.3]\n",
      " [ 5.   3.4  1.5  0.2]\n",
      " [ 4.4  2.9  1.4  0.2]\n",
      " [ 4.9  3.1  1.5  0.1]\n",
      " [ 5.4  3.7  1.5  0.2]\n",
      " [ 4.8  3.4  1.6  0.2]\n",
      " [ 4.8  3.   1.4  0.1]\n",
      " [ 4.3  3.   1.1  0.1]\n",
      " [ 5.8  4.   1.2  0.2]\n",
      " [ 5.7  4.4  1.5  0.4]\n",
      " [ 5.4  3.9  1.3  0.4]\n",
      " [ 5.1  3.5  1.4  0.3]\n",
      " [ 5.7  3.8  1.7  0.3]\n",
      " [ 5.1  3.8  1.5  0.3]\n",
      " [ 5.4  3.4  1.7  0.2]\n",
      " [ 5.1  3.7  1.5  0.4]\n",
      " [ 4.6  3.6  1.   0.2]\n",
      " [ 5.1  3.3  1.7  0.5]\n",
      " [ 4.8  3.4  1.9  0.2]\n",
      " [ 5.   3.   1.6  0.2]\n",
      " [ 5.   3.4  1.6  0.4]\n",
      " [ 5.2  3.5  1.5  0.2]\n",
      " [ 5.2  3.4  1.4  0.2]\n",
      " [ 4.7  3.2  1.6  0.2]\n",
      " [ 4.8  3.1  1.6  0.2]\n",
      " [ 5.4  3.4  1.5  0.4]\n",
      " [ 5.2  4.1  1.5  0.1]\n",
      " [ 5.5  4.2  1.4  0.2]\n",
      " [ 4.9  3.1  1.5  0.1]\n",
      " [ 5.   3.2  1.2  0.2]\n",
      " [ 5.5  3.5  1.3  0.2]\n",
      " [ 4.9  3.1  1.5  0.1]\n",
      " [ 4.4  3.   1.3  0.2]\n",
      " [ 5.1  3.4  1.5  0.2]\n",
      " [ 5.   3.5  1.3  0.3]\n",
      " [ 4.5  2.3  1.3  0.3]\n",
      " [ 4.4  3.2  1.3  0.2]\n",
      " [ 5.   3.5  1.6  0.6]\n",
      " [ 5.1  3.8  1.9  0.4]\n",
      " [ 4.8  3.   1.4  0.3]\n",
      " [ 5.1  3.8  1.6  0.2]\n",
      " [ 4.6  3.2  1.4  0.2]\n",
      " [ 5.3  3.7  1.5  0.2]\n",
      " [ 5.   3.3  1.4  0.2]\n",
      " [ 7.   3.2  4.7  1.4]\n",
      " [ 6.4  3.2  4.5  1.5]\n",
      " [ 6.9  3.1  4.9  1.5]\n",
      " [ 5.5  2.3  4.   1.3]\n",
      " [ 6.5  2.8  4.6  1.5]\n",
      " [ 5.7  2.8  4.5  1.3]\n",
      " [ 6.3  3.3  4.7  1.6]\n",
      " [ 4.9  2.4  3.3  1. ]\n",
      " [ 6.6  2.9  4.6  1.3]\n",
      " [ 5.2  2.7  3.9  1.4]\n",
      " [ 5.   2.   3.5  1. ]\n",
      " [ 5.9  3.   4.2  1.5]\n",
      " [ 6.   2.2  4.   1. ]\n",
      " [ 6.1  2.9  4.7  1.4]\n",
      " [ 5.6  2.9  3.6  1.3]\n",
      " [ 6.7  3.1  4.4  1.4]\n",
      " [ 5.6  3.   4.5  1.5]\n",
      " [ 5.8  2.7  4.1  1. ]\n",
      " [ 6.2  2.2  4.5  1.5]\n",
      " [ 5.6  2.5  3.9  1.1]\n",
      " [ 5.9  3.2  4.8  1.8]\n",
      " [ 6.1  2.8  4.   1.3]\n",
      " [ 6.3  2.5  4.9  1.5]\n",
      " [ 6.1  2.8  4.7  1.2]\n",
      " [ 6.4  2.9  4.3  1.3]\n",
      " [ 6.6  3.   4.4  1.4]\n",
      " [ 6.8  2.8  4.8  1.4]\n",
      " [ 6.7  3.   5.   1.7]\n",
      " [ 6.   2.9  4.5  1.5]\n",
      " [ 5.7  2.6  3.5  1. ]\n",
      " [ 5.5  2.4  3.8  1.1]\n",
      " [ 5.5  2.4  3.7  1. ]\n",
      " [ 5.8  2.7  3.9  1.2]\n",
      " [ 6.   2.7  5.1  1.6]\n",
      " [ 5.4  3.   4.5  1.5]\n",
      " [ 6.   3.4  4.5  1.6]\n",
      " [ 6.7  3.1  4.7  1.5]\n",
      " [ 6.3  2.3  4.4  1.3]\n",
      " [ 5.6  3.   4.1  1.3]\n",
      " [ 5.5  2.5  4.   1.3]\n",
      " [ 5.5  2.6  4.4  1.2]\n",
      " [ 6.1  3.   4.6  1.4]\n",
      " [ 5.8  2.6  4.   1.2]\n",
      " [ 5.   2.3  3.3  1. ]\n",
      " [ 5.6  2.7  4.2  1.3]\n",
      " [ 5.7  3.   4.2  1.2]\n",
      " [ 5.7  2.9  4.2  1.3]\n",
      " [ 6.2  2.9  4.3  1.3]\n",
      " [ 5.1  2.5  3.   1.1]\n",
      " [ 5.7  2.8  4.1  1.3]\n",
      " [ 6.3  3.3  6.   2.5]\n",
      " [ 5.8  2.7  5.1  1.9]\n",
      " [ 7.1  3.   5.9  2.1]\n",
      " [ 6.3  2.9  5.6  1.8]\n",
      " [ 6.5  3.   5.8  2.2]\n",
      " [ 7.6  3.   6.6  2.1]\n",
      " [ 4.9  2.5  4.5  1.7]\n",
      " [ 7.3  2.9  6.3  1.8]\n",
      " [ 6.7  2.5  5.8  1.8]\n",
      " [ 7.2  3.6  6.1  2.5]\n",
      " [ 6.5  3.2  5.1  2. ]\n",
      " [ 6.4  2.7  5.3  1.9]\n",
      " [ 6.8  3.   5.5  2.1]\n",
      " [ 5.7  2.5  5.   2. ]\n",
      " [ 5.8  2.8  5.1  2.4]\n",
      " [ 6.4  3.2  5.3  2.3]\n",
      " [ 6.5  3.   5.5  1.8]\n",
      " [ 7.7  3.8  6.7  2.2]\n",
      " [ 7.7  2.6  6.9  2.3]\n",
      " [ 6.   2.2  5.   1.5]\n",
      " [ 6.9  3.2  5.7  2.3]\n",
      " [ 5.6  2.8  4.9  2. ]\n",
      " [ 7.7  2.8  6.7  2. ]\n",
      " [ 6.3  2.7  4.9  1.8]\n",
      " [ 6.7  3.3  5.7  2.1]\n",
      " [ 7.2  3.2  6.   1.8]\n",
      " [ 6.2  2.8  4.8  1.8]\n",
      " [ 6.1  3.   4.9  1.8]\n",
      " [ 6.4  2.8  5.6  2.1]\n",
      " [ 7.2  3.   5.8  1.6]\n",
      " [ 7.4  2.8  6.1  1.9]\n",
      " [ 7.9  3.8  6.4  2. ]\n",
      " [ 6.4  2.8  5.6  2.2]\n",
      " [ 6.3  2.8  5.1  1.5]\n",
      " [ 6.1  2.6  5.6  1.4]\n",
      " [ 7.7  3.   6.1  2.3]\n",
      " [ 6.3  3.4  5.6  2.4]\n",
      " [ 6.4  3.1  5.5  1.8]\n",
      " [ 6.   3.   4.8  1.8]\n",
      " [ 6.9  3.1  5.4  2.1]\n",
      " [ 6.7  3.1  5.6  2.4]\n",
      " [ 6.9  3.1  5.1  2.3]\n",
      " [ 5.8  2.7  5.1  1.9]\n",
      " [ 6.8  3.2  5.9  2.3]\n",
      " [ 6.7  3.3  5.7  2.5]\n",
      " [ 6.7  3.   5.2  2.3]\n",
      " [ 6.3  2.5  5.   1.9]\n",
      " [ 6.5  3.   5.2  2. ]\n",
      " [ 6.2  3.4  5.4  2.3]\n",
      " [ 5.9  3.   5.1  1.8]]\n"
     ]
    }
   ],
   "source": [
    "print iris.data"
   ]
  },
  {
   "cell_type": "code",
   "execution_count": 4,
   "metadata": {},
   "outputs": [
    {
     "name": "stdout",
     "output_type": "stream",
     "text": [
      "['sepal length (cm)', 'sepal width (cm)', 'petal length (cm)', 'petal width (cm)']\n"
     ]
    }
   ],
   "source": [
    "print iris.feature_names"
   ]
  },
  {
   "cell_type": "code",
   "execution_count": 5,
   "metadata": {},
   "outputs": [
    {
     "name": "stdout",
     "output_type": "stream",
     "text": [
      "[0 0 0 0 0 0 0 0 0 0 0 0 0 0 0 0 0 0 0 0 0 0 0 0 0 0 0 0 0 0 0 0 0 0 0 0 0\n",
      " 0 0 0 0 0 0 0 0 0 0 0 0 0 1 1 1 1 1 1 1 1 1 1 1 1 1 1 1 1 1 1 1 1 1 1 1 1\n",
      " 1 1 1 1 1 1 1 1 1 1 1 1 1 1 1 1 1 1 1 1 1 1 1 1 1 1 2 2 2 2 2 2 2 2 2 2 2\n",
      " 2 2 2 2 2 2 2 2 2 2 2 2 2 2 2 2 2 2 2 2 2 2 2 2 2 2 2 2 2 2 2 2 2 2 2 2 2\n",
      " 2 2]\n"
     ]
    }
   ],
   "source": [
    "print iris.target"
   ]
  },
  {
   "cell_type": "code",
   "execution_count": 6,
   "metadata": {},
   "outputs": [
    {
     "name": "stdout",
     "output_type": "stream",
     "text": [
      "['setosa' 'versicolor' 'virginica']\n"
     ]
    }
   ],
   "source": [
    "print iris.target_names"
   ]
  },
  {
   "cell_type": "code",
   "execution_count": 7,
   "metadata": {},
   "outputs": [
    {
     "name": "stdout",
     "output_type": "stream",
     "text": [
      "<type 'numpy.ndarray'>\n",
      "<type 'numpy.ndarray'>\n"
     ]
    }
   ],
   "source": [
    "print type(iris.data)\n",
    "print type(iris.target)"
   ]
  },
  {
   "cell_type": "code",
   "execution_count": 8,
   "metadata": {},
   "outputs": [
    {
     "name": "stdout",
     "output_type": "stream",
     "text": [
      "(150, 4)\n"
     ]
    }
   ],
   "source": [
    "print iris.data.shape"
   ]
  },
  {
   "cell_type": "code",
   "execution_count": 9,
   "metadata": {},
   "outputs": [
    {
     "name": "stdout",
     "output_type": "stream",
     "text": [
      "(150,)\n"
     ]
    }
   ],
   "source": [
    "print iris.target.shape"
   ]
  },
  {
   "cell_type": "code",
   "execution_count": 10,
   "metadata": {
    "collapsed": true
   },
   "outputs": [],
   "source": [
    "X = iris.data\n",
    "\n",
    "y = iris.target"
   ]
  },
  {
   "cell_type": "code",
   "execution_count": 11,
   "metadata": {
    "collapsed": true
   },
   "outputs": [],
   "source": [
    "from sklearn.neighbors import KNeighborsClassifier"
   ]
  },
  {
   "cell_type": "code",
   "execution_count": 12,
   "metadata": {
    "collapsed": true
   },
   "outputs": [],
   "source": [
    "knn = KNeighborsClassifier(n_neighbors=1)"
   ]
  },
  {
   "cell_type": "code",
   "execution_count": 13,
   "metadata": {},
   "outputs": [
    {
     "name": "stdout",
     "output_type": "stream",
     "text": [
      "KNeighborsClassifier(algorithm='auto', leaf_size=30, metric='minkowski',\n",
      "           metric_params=None, n_jobs=1, n_neighbors=1, p=2,\n",
      "           weights='uniform')\n"
     ]
    }
   ],
   "source": [
    "print knn"
   ]
  },
  {
   "cell_type": "code",
   "execution_count": 14,
   "metadata": {},
   "outputs": [
    {
     "data": {
      "text/plain": [
       "KNeighborsClassifier(algorithm='auto', leaf_size=30, metric='minkowski',\n",
       "           metric_params=None, n_jobs=1, n_neighbors=1, p=2,\n",
       "           weights='uniform')"
      ]
     },
     "execution_count": 14,
     "metadata": {},
     "output_type": "execute_result"
    }
   ],
   "source": [
    "knn.fit(X,y)"
   ]
  },
  {
   "cell_type": "code",
   "execution_count": 15,
   "metadata": {},
   "outputs": [
    {
     "data": {
      "text/plain": [
       "array([2, 1])"
      ]
     },
     "execution_count": 15,
     "metadata": {},
     "output_type": "execute_result"
    }
   ],
   "source": [
    "X_new = [[3,5,4,2],[5,4,3,2]]\n",
    "knn.predict(X_new)"
   ]
  },
  {
   "cell_type": "code",
   "execution_count": 16,
   "metadata": {},
   "outputs": [
    {
     "data": {
      "text/plain": [
       "array([2])"
      ]
     },
     "execution_count": 16,
     "metadata": {},
     "output_type": "execute_result"
    }
   ],
   "source": [
    "knn.predict([[3,5,4,2]])"
   ]
  },
  {
   "cell_type": "code",
   "execution_count": 17,
   "metadata": {
    "collapsed": true
   },
   "outputs": [],
   "source": [
    "knn = KNeighborsClassifier(n_neighbors=5)"
   ]
  },
  {
   "cell_type": "code",
   "execution_count": 18,
   "metadata": {},
   "outputs": [
    {
     "data": {
      "text/plain": [
       "KNeighborsClassifier(algorithm='auto', leaf_size=30, metric='minkowski',\n",
       "           metric_params=None, n_jobs=1, n_neighbors=5, p=2,\n",
       "           weights='uniform')"
      ]
     },
     "execution_count": 18,
     "metadata": {},
     "output_type": "execute_result"
    }
   ],
   "source": [
    "knn.fit(X,y)"
   ]
  },
  {
   "cell_type": "code",
   "execution_count": 19,
   "metadata": {},
   "outputs": [
    {
     "data": {
      "text/plain": [
       "array([1, 1])"
      ]
     },
     "execution_count": 19,
     "metadata": {},
     "output_type": "execute_result"
    }
   ],
   "source": [
    "knn.predict(X_new)"
   ]
  },
  {
   "cell_type": "code",
   "execution_count": 20,
   "metadata": {},
   "outputs": [
    {
     "data": {
      "text/plain": [
       "array([2, 0])"
      ]
     },
     "execution_count": 20,
     "metadata": {},
     "output_type": "execute_result"
    }
   ],
   "source": [
    "from sklearn.linear_model import LogisticRegression\n",
    "logReg = LogisticRegression()\n",
    "logReg.fit(X,y)\n",
    "logReg.predict(X_new)"
   ]
  },
  {
   "cell_type": "code",
   "execution_count": 21,
   "metadata": {
    "collapsed": true
   },
   "outputs": [],
   "source": [
    "y_pred = logReg.predict(X)"
   ]
  },
  {
   "cell_type": "code",
   "execution_count": 22,
   "metadata": {},
   "outputs": [
    {
     "name": "stdout",
     "output_type": "stream",
     "text": [
      "0.96\n"
     ]
    }
   ],
   "source": [
    "from sklearn import metrics\n",
    "print metrics.accuracy_score(y, y_pred)"
   ]
  },
  {
   "cell_type": "code",
   "execution_count": 23,
   "metadata": {},
   "outputs": [
    {
     "name": "stdout",
     "output_type": "stream",
     "text": [
      "1.0\n"
     ]
    }
   ],
   "source": [
    "from sklearn.neighbors import KNeighborsClassifier\n",
    "knn = KNeighborsClassifier(n_neighbors=1)\n",
    "knn.fit(X,y)\n",
    "y_pred = knn.predict(X)\n",
    "print metrics.accuracy_score(y, y_pred)"
   ]
  },
  {
   "cell_type": "code",
   "execution_count": 24,
   "metadata": {},
   "outputs": [
    {
     "name": "stdout",
     "output_type": "stream",
     "text": [
      "0.986666666667\n"
     ]
    }
   ],
   "source": [
    "from sklearn.neighbors import KNeighborsClassifier\n",
    "knn = KNeighborsClassifier(n_neighbors=16)\n",
    "knn.fit(X,y)\n",
    "y_pred = knn.predict(X)\n",
    "print metrics.accuracy_score(y, y_pred)"
   ]
  },
  {
   "cell_type": "code",
   "execution_count": 39,
   "metadata": {
    "collapsed": true
   },
   "outputs": [],
   "source": [
    "from sklearn.model_selection import train_test_split\n",
    "X_train, X_test, y_train, y_test = train_test_split(X, y, random_state=2)"
   ]
  },
  {
   "cell_type": "code",
   "execution_count": 26,
   "metadata": {},
   "outputs": [
    {
     "name": "stdout",
     "output_type": "stream",
     "text": [
      "1.0\n"
     ]
    }
   ],
   "source": [
    "knn = KNeighborsClassifier(n_neighbors=5)\n",
    "knn.fit(X_train,y_train)\n",
    "y_pred = knn.predict(X_test)\n",
    "print metrics.accuracy_score(y_test, y_pred)"
   ]
  },
  {
   "cell_type": "code",
   "execution_count": 27,
   "metadata": {},
   "outputs": [
    {
     "name": "stdout",
     "output_type": "stream",
     "text": [
      "(112, 4)\n",
      "(38, 4)\n"
     ]
    }
   ],
   "source": [
    "print X_train.shape\n",
    "print X_test.shape"
   ]
  },
  {
   "cell_type": "code",
   "execution_count": 28,
   "metadata": {},
   "outputs": [
    {
     "data": {
      "text/plain": [
       "LogisticRegression(C=1.0, class_weight=None, dual=False, fit_intercept=True,\n",
       "          intercept_scaling=1, max_iter=100, multi_class='ovr', n_jobs=1,\n",
       "          penalty='l2', random_state=None, solver='liblinear', tol=0.0001,\n",
       "          verbose=0, warm_start=False)"
      ]
     },
     "execution_count": 28,
     "metadata": {},
     "output_type": "execute_result"
    }
   ],
   "source": [
    "logReg = LogisticRegression()\n",
    "logReg.fit(X_train, y_train)"
   ]
  },
  {
   "cell_type": "code",
   "execution_count": 29,
   "metadata": {},
   "outputs": [
    {
     "name": "stdout",
     "output_type": "stream",
     "text": [
      "0.921052631579\n"
     ]
    }
   ],
   "source": [
    "y_pred = logReg.predict(X_test)\n",
    "print metrics.accuracy_score(y_test, y_pred)"
   ]
  },
  {
   "cell_type": "code",
   "execution_count": 30,
   "metadata": {
    "collapsed": true
   },
   "outputs": [],
   "source": [
    "k_range = range(1,26)\n",
    "scores = []\n",
    "for k in k_range:\n",
    "    knn = KNeighborsClassifier(n_neighbors=k)\n",
    "    knn.fit(X_train, y_train)\n",
    "    y_pred = knn.predict(X_test)\n",
    "    scores.append(metrics.accuracy_score(y_test, y_pred))"
   ]
  },
  {
   "cell_type": "code",
   "execution_count": 31,
   "metadata": {},
   "outputs": [
    {
     "data": {
      "text/plain": [
       "<matplotlib.text.Text at 0x7ff969cde990>"
      ]
     },
     "execution_count": 31,
     "metadata": {},
     "output_type": "execute_result"
    },
    {
     "data": {
      "image/png": "[encoded data removed]",
      "text/plain": [
       "<matplotlib.figure.Figure at 0x7ff969f58c10>"
      ]
     },
     "metadata": {},
     "output_type": "display_data"
    }
   ],
   "source": [
    "from matplotlib import pyplot as plt\n",
    "%matplotlib inline\n",
    "\n",
    "plt.plot(k_range, scores)\n",
    "plt.xlabel('Value of k for knn')\n",
    "plt.ylabel('Testing accuracy')"
   ]
  },
  {
   "cell_type": "code",
   "execution_count": 32,
   "metadata": {},
   "outputs": [
    {
     "name": "stdout",
     "output_type": "stream",
     "text": [
      "[ 1.          0.93333333  1.          1.          0.86666667  0.93333333\n",
      "  0.93333333  1.          1.          1.        ]\n",
      "0.966666666667\n"
     ]
    }
   ],
   "source": [
    "from sklearn.cross_validation import cross_val_score\n",
    "knn = KNeighborsClassifier(n_neighbors=5)\n",
    "scores = cross_val_score(knn, X, y, cv =10, scoring = 'accuracy')\n",
    "print scores\n",
    "print scores.mean()"
   ]
  },
  {
   "cell_type": "code",
   "execution_count": 33,
   "metadata": {
    "collapsed": true
   },
   "outputs": [],
   "source": [
    "from sklearn.model_selection import GridSearchCV"
   ]
  },
  {
   "cell_type": "code",
   "execution_count": 34,
   "metadata": {},
   "outputs": [
    {
     "name": "stdout",
     "output_type": "stream",
     "text": [
      "{'n_neighbors': [1, 2, 3, 4, 5, 6, 7, 8, 9, 10, 11, 12, 13, 14, 15, 16, 17, 18, 19, 20, 21, 22, 23, 24, 25, 26, 27, 28, 29, 30]}\n"
     ]
    }
   ],
   "source": [
    "k_range = range(1,31)\n",
    "param_grid = dict(n_neighbors = k_range)\n",
    "print param_grid"
   ]
  },
  {
   "cell_type": "code",
   "execution_count": 35,
   "metadata": {
    "collapsed": true
   },
   "outputs": [],
   "source": [
    "grid = GridSearchCV(knn, param_grid, cv=10, scoring='accuracy', n_jobs=-1)"
   ]
  },
  {
   "cell_type": "code",
   "execution_count": 36,
   "metadata": {},
   "outputs": [
    {
     "data": {
      "text/plain": [
       "GridSearchCV(cv=10, error_score='raise',\n",
       "       estimator=KNeighborsClassifier(algorithm='auto', leaf_size=30, metric='minkowski',\n",
       "           metric_params=None, n_jobs=1, n_neighbors=5, p=2,\n",
       "           weights='uniform'),\n",
       "       fit_params=None, iid=True, n_jobs=-1,\n",
       "       param_grid={'n_neighbors': [1, 2, 3, 4, 5, 6, 7, 8, 9, 10, 11, 12, 13, 14, 15, 16, 17, 18, 19, 20, 21, 22, 23, 24, 25, 26, 27, 28, 29, 30]},\n",
       "       pre_dispatch='2*n_jobs', refit=True, return_train_score=True,\n",
       "       scoring='accuracy', verbose=0)"
      ]
     },
     "execution_count": 36,
     "metadata": {},
     "output_type": "execute_result"
    }
   ],
   "source": [
    "grid.fit(X,y)"
   ]
  },
  {
   "cell_type": "code",
   "execution_count": 40,
   "metadata": {
    "collapsed": true
   },
   "outputs": [
    {
     "data": {
      "text/plain": [
       "{'mean_fit_time': array([ 0.00141938,  0.00073309,  0.00066049,  0.00060287,  0.00064726,\n",
       "         0.00053544,  0.00051963,  0.00053697,  0.00057993,  0.00054693,\n",
       "         0.00056789,  0.00056913,  0.00055549,  0.0004823 ,  0.00037911,\n",
       "         0.00052669,  0.00056081,  0.00054219,  0.00043578,  0.00054712,\n",
       "         0.0005728 ,  0.00047686,  0.00055282,  0.00052323,  0.00162284,\n",
       "         0.00034926,  0.00043321,  0.00037329,  0.00035107,  0.00039024]),\n",
       " 'mean_score_time': array([ 0.00321131,  0.00118697,  0.00217834,  0.0009618 ,  0.00109272,\n",
       "         0.00093331,  0.0016691 ,  0.00092692,  0.00098379,  0.0009558 ,\n",
       "         0.00098474,  0.00100911,  0.00095813,  0.0008322 ,  0.00074077,\n",
       "         0.00094752,  0.00104399,  0.00098431,  0.00078447,  0.00100429,\n",
       "         0.00105278,  0.00088251,  0.00108509,  0.00100856,  0.00094376,\n",
       "         0.0006592 ,  0.00079269,  0.00066836,  0.00071115,  0.00074067]),\n",
       " 'mean_test_score': array([ 0.96      ,  0.95333333,  0.96666667,  0.96666667,  0.96666667,\n",
       "         0.96666667,  0.96666667,  0.96666667,  0.97333333,  0.96666667,\n",
       "         0.96666667,  0.97333333,  0.98      ,  0.97333333,  0.97333333,\n",
       "         0.97333333,  0.97333333,  0.98      ,  0.97333333,  0.98      ,\n",
       "         0.96666667,  0.96666667,  0.97333333,  0.96      ,  0.96666667,\n",
       "         0.96      ,  0.96666667,  0.95333333,  0.95333333,  0.95333333]),\n",
       " 'mean_train_score': array([ 1.        ,  0.97851852,  0.96074074,  0.9637037 ,  0.96888889,\n",
       "         0.97259259,  0.97333333,  0.97925926,  0.97925926,  0.9762963 ,\n",
       "         0.98      ,  0.97851852,  0.98      ,  0.97925926,  0.97925926,\n",
       "         0.97777778,  0.97777778,  0.97777778,  0.97777778,  0.97407407,\n",
       "         0.97555556,  0.97111111,  0.97333333,  0.97037037,  0.96962963,\n",
       "         0.96      ,  0.96148148,  0.95481481,  0.95925926,  0.95259259]),\n",
       " 'param_n_neighbors': masked_array(data = [1 2 3 4 5 6 7 8 9 10 11 12 13 14 15 16 17 18 19 20 21 22 23 24 25 26 27 28\n",
       "  29 30],\n",
       "              mask = [False False False False False False False False False False False False\n",
       "  False False False False False False False False False False False False\n",
       "  False False False False False False],\n",
       "        fill_value = ?),\n",
       " 'params': [{'n_neighbors': 1},\n",
       "  {'n_neighbors': 2},\n",
       "  {'n_neighbors': 3},\n",
       "  {'n_neighbors': 4},\n",
       "  {'n_neighbors': 5},\n",
       "  {'n_neighbors': 6},\n",
       "  {'n_neighbors': 7},\n",
       "  {'n_neighbors': 8},\n",
       "  {'n_neighbors': 9},\n",
       "  {'n_neighbors': 10},\n",
       "  {'n_neighbors': 11},\n",
       "  {'n_neighbors': 12},\n",
       "  {'n_neighbors': 13},\n",
       "  {'n_neighbors': 14},\n",
       "  {'n_neighbors': 15},\n",
       "  {'n_neighbors': 16},\n",
       "  {'n_neighbors': 17},\n",
       "  {'n_neighbors': 18},\n",
       "  {'n_neighbors': 19},\n",
       "  {'n_neighbors': 20},\n",
       "  {'n_neighbors': 21},\n",
       "  {'n_neighbors': 22},\n",
       "  {'n_neighbors': 23},\n",
       "  {'n_neighbors': 24},\n",
       "  {'n_neighbors': 25},\n",
       "  {'n_neighbors': 26},\n",
       "  {'n_neighbors': 27},\n",
       "  {'n_neighbors': 28},\n",
       "  {'n_neighbors': 29},\n",
       "  {'n_neighbors': 30}],\n",
       " 'rank_test_score': array([24, 27, 12, 12, 12, 12, 12, 12,  4, 12, 12,  4,  1,  4,  4,  4,  4,\n",
       "         1,  4,  1, 12, 12,  4, 24, 12, 24, 12, 27, 27, 27], dtype=int32),\n",
       " 'split0_test_score': array([ 1.        ,  1.        ,  1.        ,  1.        ,  1.        ,\n",
       "         1.        ,  1.        ,  1.        ,  1.        ,  1.        ,\n",
       "         1.        ,  1.        ,  1.        ,  1.        ,  0.93333333,\n",
       "         1.        ,  0.93333333,  1.        ,  0.93333333,  1.        ,\n",
       "         0.93333333,  0.93333333,  0.93333333,  0.93333333,  0.93333333,\n",
       "         0.93333333,  0.93333333,  0.93333333,  0.93333333,  0.93333333]),\n",
       " 'split0_train_score': array([ 1.        ,  0.97037037,  0.95555556,  0.95555556,  0.96296296,\n",
       "         0.97037037,  0.96296296,  0.97037037,  0.97037037,  0.97037037,\n",
       "         0.97037037,  0.97037037,  0.97777778,  0.97037037,  0.97777778,\n",
       "         0.97037037,  0.97777778,  0.97777778,  0.97777778,  0.97777778,\n",
       "         0.97777778,  0.97777778,  0.97777778,  0.97037037,  0.97777778,\n",
       "         0.96296296,  0.96296296,  0.94814815,  0.95555556,  0.94814815]),\n",
       " 'split1_test_score': array([ 0.93333333,  0.93333333,  0.93333333,  0.93333333,  0.93333333,\n",
       "         0.93333333,  0.93333333,  0.93333333,  0.93333333,  0.93333333,\n",
       "         0.93333333,  0.93333333,  0.93333333,  0.93333333,  0.93333333,\n",
       "         0.93333333,  0.93333333,  0.93333333,  0.93333333,  0.93333333,\n",
       "         0.93333333,  0.93333333,  0.93333333,  0.93333333,  0.93333333,\n",
       "         0.93333333,  0.93333333,  0.93333333,  0.93333333,  0.93333333]),\n",
       " 'split1_train_score': array([ 1.        ,  0.98518519,  0.96296296,  0.96296296,  0.97037037,\n",
       "         0.97037037,  0.97777778,  0.98518519,  0.98518519,  0.98518519,\n",
       "         0.98518519,  0.99259259,  0.97777778,  0.97777778,  0.97777778,\n",
       "         0.98518519,  0.98518519,  0.98518519,  0.98518519,  0.98518519,\n",
       "         0.98518519,  0.98518519,  0.97037037,  0.97777778,  0.97777778,\n",
       "         0.98518519,  0.97777778,  0.97777778,  0.97777778,  0.95555556]),\n",
       " 'split2_test_score': array([ 1.,  1.,  1.,  1.,  1.,  1.,  1.,  1.,  1.,  1.,  1.,  1.,  1.,\n",
       "         1.,  1.,  1.,  1.,  1.,  1.,  1.,  1.,  1.,  1.,  1.,  1.,  1.,\n",
       "         1.,  1.,  1.,  1.]),\n",
       " 'split2_train_score': array([ 1.        ,  0.97777778,  0.95555556,  0.95555556,  0.96296296,\n",
       "         0.97037037,  0.97037037,  0.97777778,  0.97777778,  0.97777778,\n",
       "         0.98518519,  0.98518519,  0.97777778,  0.98518519,  0.97777778,\n",
       "         0.98518519,  0.97777778,  0.97777778,  0.97777778,  0.96296296,\n",
       "         0.97037037,  0.95555556,  0.96296296,  0.94814815,  0.94814815,\n",
       "         0.93333333,  0.94074074,  0.94814815,  0.95555556,  0.94814815]),\n",
       " 'split3_test_score': array([ 0.93333333,  0.93333333,  0.93333333,  0.93333333,  1.        ,\n",
       "         1.        ,  1.        ,  1.        ,  1.        ,  1.        ,\n",
       "         1.        ,  1.        ,  1.        ,  1.        ,  1.        ,\n",
       "         1.        ,  1.        ,  1.        ,  1.        ,  1.        ,\n",
       "         1.        ,  1.        ,  1.        ,  1.        ,  1.        ,\n",
       "         1.        ,  1.        ,  0.93333333,  0.93333333,  0.93333333]),\n",
       " 'split3_train_score': array([ 1.        ,  0.98518519,  0.96296296,  0.96296296,  0.97037037,\n",
       "         0.97777778,  0.97037037,  0.98518519,  0.98518519,  0.97777778,\n",
       "         0.97777778,  0.97777778,  0.97777778,  0.97777778,  0.97777778,\n",
       "         0.98518519,  0.97777778,  0.97777778,  0.97777778,  0.97777778,\n",
       "         0.97777778,  0.97777778,  0.97777778,  0.97777778,  0.97037037,\n",
       "         0.96296296,  0.97037037,  0.96296296,  0.97037037,  0.94814815]),\n",
       " 'split4_test_score': array([ 0.86666667,  0.86666667,  0.86666667,  0.86666667,  0.86666667,\n",
       "         0.86666667,  0.86666667,  1.        ,  1.        ,  1.        ,\n",
       "         1.        ,  1.        ,  1.        ,  1.        ,  1.        ,\n",
       "         1.        ,  1.        ,  1.        ,  1.        ,  1.        ,\n",
       "         0.93333333,  1.        ,  1.        ,  1.        ,  1.        ,\n",
       "         1.        ,  1.        ,  1.        ,  1.        ,  1.        ]),\n",
       " 'split4_train_score': array([ 1.        ,  0.97777778,  0.97777778,  0.97777778,  0.98518519,\n",
       "         0.98518519,  0.98518519,  0.97777778,  0.97777778,  0.97777778,\n",
       "         0.98518519,  0.97777778,  0.98518519,  0.97777778,  0.97777778,\n",
       "         0.97777778,  0.97777778,  0.97777778,  0.97777778,  0.97777778,\n",
       "         0.97777778,  0.97037037,  0.97777778,  0.97037037,  0.97037037,\n",
       "         0.95555556,  0.94814815,  0.94814815,  0.94814815,  0.94814815]),\n",
       " 'split5_test_score': array([ 1.        ,  1.        ,  1.        ,  1.        ,  0.93333333,\n",
       "         0.93333333,  0.93333333,  0.86666667,  0.93333333,  0.86666667,\n",
       "         0.86666667,  0.93333333,  0.93333333,  0.86666667,  0.93333333,\n",
       "         0.93333333,  0.93333333,  0.93333333,  0.93333333,  0.93333333,\n",
       "         0.93333333,  0.93333333,  0.93333333,  0.86666667,  0.93333333,\n",
       "         0.86666667,  0.86666667,  0.86666667,  0.86666667,  0.86666667]),\n",
       " 'split5_train_score': array([ 1.        ,  0.97037037,  0.95555556,  0.96296296,  0.96296296,\n",
       "         0.95555556,  0.97037037,  0.97037037,  0.97777778,  0.97037037,\n",
       "         0.98518519,  0.97777778,  0.98518519,  0.97777778,  0.97777778,\n",
       "         0.97777778,  0.98518519,  0.98518519,  0.97777778,  0.97777778,\n",
       "         0.97777778,  0.97777778,  0.97777778,  0.97777778,  0.97777778,\n",
       "         0.96296296,  0.97037037,  0.96296296,  0.96296296,  0.96296296]),\n",
       " 'split6_test_score': array([ 0.86666667,  0.86666667,  0.93333333,  0.93333333,  0.93333333,\n",
       "         0.93333333,  0.93333333,  0.93333333,  0.93333333,  0.93333333,\n",
       "         0.93333333,  0.93333333,  0.93333333,  0.93333333,  0.93333333,\n",
       "         0.93333333,  0.93333333,  0.93333333,  0.93333333,  0.93333333,\n",
       "         0.93333333,  0.93333333,  0.93333333,  0.93333333,  0.93333333,\n",
       "         0.93333333,  0.93333333,  0.93333333,  0.93333333,  0.93333333]),\n",
       " 'split6_train_score': array([ 1.        ,  0.98518519,  0.97037037,  0.97037037,  0.97777778,\n",
       "         0.98518519,  0.97777778,  0.99259259,  0.99259259,  0.98518519,\n",
       "         0.99259259,  0.98518519,  0.99259259,  0.99259259,  0.98518519,\n",
       "         0.98518519,  0.97777778,  0.98518519,  0.98518519,  0.98518519,\n",
       "         0.98518519,  0.97777778,  0.97777778,  0.97777778,  0.97777778,\n",
       "         0.96296296,  0.97037037,  0.95555556,  0.96296296,  0.96296296]),\n",
       " 'split7_test_score': array([ 1.        ,  0.93333333,  1.        ,  1.        ,  1.        ,\n",
       "         1.        ,  1.        ,  0.93333333,  0.93333333,  0.93333333,\n",
       "         0.93333333,  0.93333333,  1.        ,  1.        ,  1.        ,\n",
       "         0.93333333,  1.        ,  1.        ,  1.        ,  1.        ,\n",
       "         1.        ,  0.93333333,  1.        ,  0.93333333,  0.93333333,\n",
       "         0.93333333,  1.        ,  0.93333333,  0.93333333,  0.93333333]),\n",
       " 'split7_train_score': array([ 1.        ,  0.97777778,  0.95555556,  0.96296296,  0.96296296,\n",
       "         0.97037037,  0.97037037,  0.97777778,  0.97037037,  0.97777778,\n",
       "         0.97777778,  0.97037037,  0.97037037,  0.97777778,  0.97777778,\n",
       "         0.97037037,  0.97777778,  0.97777778,  0.97777778,  0.97777778,\n",
       "         0.97777778,  0.97037037,  0.97777778,  0.97777778,  0.97777778,\n",
       "         0.97037037,  0.97037037,  0.96296296,  0.96296296,  0.95555556]),\n",
       " 'split8_test_score': array([ 1.,  1.,  1.,  1.,  1.,  1.,  1.,  1.,  1.,  1.,  1.,  1.,  1.,\n",
       "         1.,  1.,  1.,  1.,  1.,  1.,  1.,  1.,  1.,  1.,  1.,  1.,  1.,\n",
       "         1.,  1.,  1.,  1.]),\n",
       " 'split8_train_score': array([ 1.        ,  0.97777778,  0.95555556,  0.95555556,  0.96296296,\n",
       "         0.97037037,  0.97037037,  0.97777778,  0.97777778,  0.97777778,\n",
       "         0.97777778,  0.98518519,  0.97777778,  0.98518519,  0.98518519,\n",
       "         0.97777778,  0.97777778,  0.97777778,  0.97777778,  0.97777778,\n",
       "         0.97777778,  0.97037037,  0.97777778,  0.97037037,  0.97037037,\n",
       "         0.96296296,  0.97037037,  0.94814815,  0.95555556,  0.95555556]),\n",
       " 'split9_test_score': array([ 1.,  1.,  1.,  1.,  1.,  1.,  1.,  1.,  1.,  1.,  1.,  1.,  1.,\n",
       "         1.,  1.,  1.,  1.,  1.,  1.,  1.,  1.,  1.,  1.,  1.,  1.,  1.,\n",
       "         1.,  1.,  1.,  1.]),\n",
       " 'split9_train_score': array([ 1.        ,  0.97777778,  0.95555556,  0.97037037,  0.97037037,\n",
       "         0.97037037,  0.97777778,  0.97777778,  0.97777778,  0.96296296,\n",
       "         0.96296296,  0.96296296,  0.97777778,  0.97037037,  0.97777778,\n",
       "         0.96296296,  0.96296296,  0.95555556,  0.96296296,  0.94074074,\n",
       "         0.94814815,  0.94814815,  0.95555556,  0.95555556,  0.94814815,\n",
       "         0.94074074,  0.93333333,  0.93333333,  0.94074074,  0.94074074]),\n",
       " 'std_fit_time': array([  6.65050171e-04,   1.64389456e-04,   9.48158676e-05,\n",
       "          7.60859545e-05,   1.14147874e-04,   2.26024837e-05,\n",
       "          2.26480709e-05,   3.56771397e-05,   9.65994411e-05,\n",
       "          3.52720929e-05,   1.31758375e-04,   1.85517999e-05,\n",
       "          1.25516160e-04,   6.59693868e-05,   4.14215419e-05,\n",
       "          8.52589939e-05,   4.63558072e-05,   3.81842744e-05,\n",
       "          1.01955033e-04,   3.50255962e-05,   5.85432197e-05,\n",
       "          8.15545208e-05,   4.10935776e-05,   2.19583900e-05,\n",
       "          1.81435210e-03,   1.68774254e-05,   1.04271869e-04,\n",
       "          4.69756060e-05,   1.49095512e-05,   9.58178019e-05]),\n",
       " 'std_score_time': array([  2.75950976e-03,   2.19802826e-04,   2.99672109e-03,\n",
       "          1.24379454e-04,   1.11678775e-04,   3.54693133e-05,\n",
       "          2.23531220e-03,   4.03021626e-05,   1.16682162e-04,\n",
       "          4.55864117e-05,   1.94524900e-04,   1.09450748e-05,\n",
       "          2.10298217e-04,   1.34347304e-04,   1.04823298e-04,\n",
       "          1.11787442e-04,   1.17434634e-04,   7.30759168e-05,\n",
       "          1.58968600e-04,   7.72913210e-05,   1.45163009e-04,\n",
       "          1.66057171e-04,   2.08894511e-04,   3.91398501e-05,\n",
       "          1.17688646e-04,   1.88122533e-05,   1.68849337e-04,\n",
       "          3.63863075e-05,   1.49413399e-04,   1.94541502e-04]),\n",
       " 'std_test_score': array([ 0.05333333,  0.05206833,  0.04472136,  0.04472136,  0.04472136,\n",
       "         0.04472136,  0.04472136,  0.04472136,  0.03265986,  0.04472136,\n",
       "         0.04472136,  0.03265986,  0.0305505 ,  0.04422166,  0.03265986,\n",
       "         0.03265986,  0.03265986,  0.0305505 ,  0.03265986,  0.0305505 ,\n",
       "         0.03333333,  0.03333333,  0.03265986,  0.04422166,  0.03333333,\n",
       "         0.04422166,  0.04472136,  0.04268749,  0.04268749,  0.04268749]),\n",
       " 'std_train_score': array([ 0.        ,  0.00518519,  0.00744435,  0.00698813,  0.00725775,\n",
       "         0.00814815,  0.00592593,  0.00645763,  0.00645763,  0.00645763,\n",
       "         0.00814815,  0.0084132 ,  0.00578537,  0.00645763,  0.00296296,\n",
       "         0.00740741,  0.00573775,  0.00811441,  0.00573775,  0.01250514,\n",
       "         0.00996565,  0.01070876,  0.0075541 ,  0.00993808,  0.01120944,\n",
       "         0.01373869,  0.0143635 ,  0.01168869,  0.01007516,  0.006789  ])}"
      ]
     },
     "execution_count": 40,
     "metadata": {},
     "output_type": "execute_result"
    }
   ],
   "source": [
    "grid.cv_results_"
   ]
  },
  {
   "cell_type": "code",
   "execution_count": 38,
   "metadata": {},
   "outputs": [
    {
     "name": "stdout",
     "output_type": "stream",
     "text": [
      "0.98\n",
      "{'n_neighbors': 13}\n",
      "KNeighborsClassifier(algorithm='auto', leaf_size=30, metric='minkowski',\n",
      "           metric_params=None, n_jobs=1, n_neighbors=13, p=2,\n",
      "           weights='uniform')\n"
     ]
    }
   ],
   "source": [
    "print grid.best_score_\n",
    "print grid.best_params_\n",
    "print grid.best_estimator_"
   ]
  },
  {
   "cell_type": "code",
   "execution_count": null,
   "metadata": {
    "collapsed": true
   },
   "outputs": [],
   "source": []
  }
 ],
 "metadata": {
  "kernelspec": {
   "display_name": "Python 2",
   "language": "python",
   "name": "python2"
  },
  "language_info": {
   "codemirror_mode": {
    "name": "ipython",
    "version": 2
   },
   "file_extension": ".py",
   "mimetype": "text/x-python",
   "name": "python",
   "nbconvert_exporter": "python",
   "pygments_lexer": "ipython2",
   "version": "2.7.14"
  }
 },
 "nbformat": 4,
 "nbformat_minor": 2
}
