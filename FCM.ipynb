{
 "cells": [
  {
   "cell_type": "code",
   "execution_count": 1,
   "metadata": {
    "collapsed": true
   },
   "outputs": [],
   "source": [
    "import pandas as pd\n",
    "import numpy as np\n",
    "import random\n",
    "import operator\n",
    "import math"
   ]
  },
  {
   "cell_type": "code",
   "execution_count": 2,
   "metadata": {},
   "outputs": [],
   "source": [
    "df_full = pd.read_csv(\"SPECTF_New.csv\")\n",
    "columns = list(df_full.columns)\n",
    "features = columns[:len(columns)-1]\n",
    "class_labels = list(df_full[columns[-1]])\n",
    "df = df_full[features]"
   ]
  },
  {
   "cell_type": "code",
   "execution_count": 3,
   "metadata": {},
   "outputs": [],
   "source": [
    "# Number of Attributes\n",
    "num_attr = len(df.columns) - 1\n",
    "\n",
    "# Number of Clusters\n",
    "k = 2\n",
    "\n",
    "# Maximum number of iterations\n",
    "MAX_ITER = 100\n",
    "\n",
    "# Number of data points\n",
    "n = len(df)\n",
    "\n",
    "# Fuzzy parameter\n",
    "m = 2.00\n"
   ]
  },
  {
   "cell_type": "code",
   "execution_count": 4,
   "metadata": {
    "collapsed": true
   },
   "outputs": [],
   "source": [
    "def accuracy(cluster_labels, class_labels):\n",
    "    county = [0,0]\n",
    "    countn = [0,0]\n",
    "    tp = [0, 0]\n",
    "    tn = [0, 0]\n",
    "    fp = [0, 0]\n",
    "    fn = [0, 0]\n",
    "    \n",
    "    for i in range(len(df)):\n",
    "        # Yes = 1, No = 0\n",
    "        if cluster_labels[i] == 1 and class_labels[i] == 'Yes':\n",
    "            tp[0] = tp[0] + 1\n",
    "        if cluster_labels[i] == 0 and class_labels[i] == 'No':\n",
    "            tn[0] = tn[0] + 1\n",
    "        if cluster_labels[i] == 1 and class_labels[i] == 'No':\n",
    "            fp[0] = fp[0] + 1\n",
    "        if cluster_labels[i] == 0 and class_labels[i] == 'Yes':\n",
    "            fn[0] = fn[0] + 1\n",
    "    \n",
    "    for i in range(len(df)):\n",
    "        # Yes = 0, No = 1\n",
    "        if cluster_labels[i] == 0 and class_labels[i] == 'Yes':\n",
    "            tp[1] = tp[1] + 1\n",
    "        if cluster_labels[i] == 1 and class_labels[i] == 'No':\n",
    "            tn[1] = tn[1] + 1\n",
    "        if cluster_labels[i] == 0 and class_labels[i] == 'No':\n",
    "            fp[1] = fp[1] + 1\n",
    "        if cluster_labels[i] == 1 and class_labels[i] == 'Yes':\n",
    "            fn[1] = fn[1] + 1\n",
    "    \n",
    "    a0 = float((tp[0] + tn[0]))/(tp[0] + tn[0] + fn[0] + fp[0])\n",
    "    a1 = float((tp[1] + tn[1]))/(tp[1] + tn[1] + fn[1] + fp[1])\n",
    "    p0 = float(tp[0])/(tp[0] + fp[0])\n",
    "    p1 = float(tp[1])/(tp[1] + fp[1])\n",
    "    r0 = float(tp[0])/(tp[0] + fn[0])\n",
    "    r1 = float(tp[1])/(tp[1] + fn[1])\n",
    "    \n",
    "    accuracy = [a0*100,a1*100]\n",
    "    precision = [p0*100,p1*100]\n",
    "    recall = [r0*100,r1*100]\n",
    "    \n",
    "    return accuracy, precision, recall"
   ]
  },
  {
   "cell_type": "code",
   "execution_count": 5,
   "metadata": {
    "collapsed": true
   },
   "outputs": [],
   "source": [
    "def initializeMembershipMatrix():\n",
    "    membership_mat = list()\n",
    "    for i in range(n):\n",
    "        random_num_list = [random.random() for i in range(k)]\n",
    "        summation = sum(random_num_list)\n",
    "        temp_list = [x/summation for x in random_num_list]\n",
    "        membership_mat.append(temp_list)\n",
    "    return membership_mat"
   ]
  },
  {
   "cell_type": "code",
   "execution_count": 6,
   "metadata": {
    "collapsed": true
   },
   "outputs": [],
   "source": [
    "def calculateClusterCenter(membership_mat):\n",
    "    cluster_mem_val = zip(*membership_mat)\n",
    "    cluster_centers = list()\n",
    "    for j in range(k):\n",
    "        x = list(cluster_mem_val[j])\n",
    "        xraised = [e ** m for e in x]\n",
    "        denominator = sum(xraised)\n",
    "        temp_num = list()\n",
    "        for i in range(n):\n",
    "            data_point = list(df.iloc[i])\n",
    "            prod = [xraised[i] * val for val in data_point]\n",
    "            temp_num.append(prod)\n",
    "        numerator = map(sum, zip(*temp_num))\n",
    "        center = [z/denominator for z in numerator]\n",
    "        cluster_centers.append(center)\n",
    "    return cluster_centers"
   ]
  },
  {
   "cell_type": "code",
   "execution_count": 7,
   "metadata": {
    "collapsed": true
   },
   "outputs": [],
   "source": [
    "def updateMembershipValue(membership_mat, cluster_centers):\n",
    "    p = float(2/(m-1))\n",
    "    for i in range(n):\n",
    "        x = list(df.iloc[i])\n",
    "        distances = [np.linalg.norm(map(operator.sub, x, cluster_centers[j])) for j in range(k)]\n",
    "        for j in range(k):\n",
    "            den = sum([math.pow(float(distances[j]/distances[c]), p) for c in range(k)])\n",
    "            membership_mat[i][j] = float(1/den)       \n",
    "    return membership_mat"
   ]
  },
  {
   "cell_type": "code",
   "execution_count": 8,
   "metadata": {
    "collapsed": true
   },
   "outputs": [],
   "source": [
    "def getClusters(membership_mat):\n",
    "    cluster_labels = list()\n",
    "    for i in range(n):\n",
    "        max_val, idx = max((val, idx) for (idx, val) in enumerate(membership_mat[i]))\n",
    "        cluster_labels.append(idx)\n",
    "    return cluster_labels"
   ]
  },
  {
   "cell_type": "code",
   "execution_count": 9,
   "metadata": {
    "collapsed": true
   },
   "outputs": [],
   "source": [
    "def fuzzyCMeansClustering():\n",
    "    # Membership Matrix\n",
    "    membership_mat = initializeMembershipMatrix()\n",
    "    curr = 0\n",
    "    while curr <= MAX_ITER:\n",
    "        cluster_centers = calculateClusterCenter(membership_mat)\n",
    "        membership_mat = updateMembershipValue(membership_mat, cluster_centers)\n",
    "        cluster_labels = getClusters(membership_mat)\n",
    "        curr += 1\n",
    "    print(membership_mat)\n",
    "    return cluster_labels, cluster_centers"
   ]
  },
  {
   "cell_type": "code",
   "execution_count": 10,
   "metadata": {},
   "outputs": [
    {
     "name": "stdout",
     "output_type": "stream",
     "text": [
      "[[0.5007614152019187, 0.49923858479808125], [0.499567129833838, 0.500432870166162], [0.4999309487274028, 0.5000690512725973], [0.49951563439161056, 0.5004843656083894], [0.5003516893915856, 0.4996483106084145], [0.5009577086204766, 0.4990422913795234], [0.500558746495796, 0.49944125350420404], [0.5007421826473372, 0.49925781735266284], [0.5002452379779949, 0.4997547620220051], [0.5010097819703649, 0.4989902180296351], [0.5005395666153531, 0.49946043338464685], [0.5004720597189217, 0.4995279402810783], [0.4998353778154762, 0.5001646221845238], [0.5007087692716611, 0.49929123072833886], [0.5007846540316583, 0.4992153459683418], [0.5004312117636379, 0.4995687882363621], [0.5010848601776285, 0.49891513982237146], [0.5002800291325046, 0.4997199708674955], [0.500187742857583, 0.49981225714241684], [0.4992351133793578, 0.5007648866206422], [0.5008179480388618, 0.49918205196113824], [0.5008928629675294, 0.4991071370324705], [0.49929151798823906, 0.5007084820117609], [0.5006644658612918, 0.4993355341387081], [0.5007899162375317, 0.4992100837624684], [0.5001759069439337, 0.49982409305606645], [0.5004992717579259, 0.49950072824207403], [0.500596962523874, 0.4994030374761261], [0.5009594728402333, 0.4990405271597666], [0.5012609945140054, 0.49873900548599454], [0.49966550351338473, 0.5003344964866153], [0.49982371882423776, 0.5001762811757622], [0.5012407702178414, 0.49875922978215864], [0.5008420981804665, 0.49915790181953346], [0.5001620656271036, 0.49983793437289636], [0.5006847040782607, 0.4993152959217393], [0.4998129387213471, 0.500187061278653], [0.4992166582264046, 0.5007833417735953], [0.5012552437349669, 0.4987447562650331], [0.5005113082725903, 0.4994886917274098], [0.5010742511092824, 0.4989257488907176], [0.5003780078918042, 0.49962199210819586], [0.5010627806965402, 0.49893721930345974], [0.5005994719058049, 0.49940052809419505], [0.4994808727128759, 0.5005191272871241], [0.5005093208965539, 0.4994906791034462], [0.5011686729430547, 0.49883132705694533], [0.5007724979450378, 0.49922750205496225], [0.4999170365966472, 0.5000829634033529], [0.4992947590122019, 0.5007052409877981], [0.49937736914041336, 0.5006226308595868], [0.5011142994799789, 0.4988857005200211], [0.4995278385658337, 0.5004721614341663], [0.49943142986887135, 0.5005685701311287], [0.4994637088558588, 0.5005362911441412], [0.5003120687967442, 0.49968793120325583], [0.4994630783261638, 0.5005369216738362], [0.49976366386109145, 0.5002363361389085], [0.5002763726077296, 0.49972362739227033], [0.49988687996761105, 0.5001131200323891], [0.5000199328876657, 0.4999800671123344], [0.5009216163483818, 0.4990783836516183], [0.5011274646996754, 0.49887253530032455], [0.5010403819656453, 0.49895961803435473], [0.5011053440735088, 0.4988946559264911], [0.5003419130017827, 0.4996580869982173], [0.5004813311846839, 0.4995186688153161], [0.5003122063627959, 0.49968779363720406], [0.5010605267131398, 0.4989394732868602], [0.5010777983432516, 0.4989222016567485], [0.5007566591882203, 0.4992433408117797], [0.50091451003632, 0.49908548996367996], [0.5012371696694571, 0.4987628303305429], [0.4999852969094688, 0.5000147030905312], [0.5010297290263486, 0.4989702709736514], [0.4999898946906631, 0.500010105309337], [0.5000500645287332, 0.4999499354712667], [0.5013562787311571, 0.4986437212688428], [0.4995293753534211, 0.500470624646579], [0.4993018251615664, 0.5006981748384336], [0.5008549601485803, 0.49914503985141956], [0.5006648219005745, 0.49933517809942546], [0.5012702321062474, 0.49872976789375256], [0.5004453486482222, 0.49955465135177785], [0.5010136422681013, 0.49898635773189864], [0.5009472650928282, 0.49905273490717184], [0.5006011916384051, 0.49939880836159484], [0.5003613731231701, 0.4996386268768299], [0.5006204487095174, 0.4993795512904826], [0.5010384300920326, 0.4989615699079673], [0.5009615058998362, 0.4990384941001638], [0.49936329254193584, 0.5006367074580641], [0.4998269284765168, 0.5001730715234831], [0.5009662442091056, 0.49903375579089443], [0.5008890526164664, 0.49911094738353357], [0.4999606860068598, 0.5000393139931402], [0.49973220001014035, 0.5002677999898597], [0.5011565288497732, 0.49884347115022687], [0.5003964703593927, 0.49960352964060734], [0.4997690222926925, 0.5002309777073075], [0.500556992537063, 0.499443007462937], [0.4998237424651438, 0.5001762575348561], [0.49981283934035015, 0.5001871606596497], [0.4995898309980756, 0.5004101690019245], [0.5006332118232537, 0.4993667881767464], [0.4996742767300666, 0.5003257232699334], [0.5008652807140083, 0.49913471928599173], [0.4994512506961514, 0.5005487493038485], [0.4998820361450384, 0.5001179638549617], [0.5012694090016725, 0.4987305909983275]]\n",
      "Accuracy = [74.54545454545455, 25.454545454545453]\n",
      "Precision = [88.57142857142857, 32.0]\n",
      "Recall = [56.36363636363636, 43.63636363636363]\n"
     ]
    }
   ],
   "source": [
    "labels, centers = fuzzyCMeansClustering()\n",
    "a,p,r = accuracy(labels, class_labels)\n",
    "\n",
    "print(\"Accuracy = \" + str(a))\n",
    "print(\"Precision = \" + str(p))\n",
    "print(\"Recall = \" + str(r))"
   ]
  }
 ],
 "metadata": {
  "kernelspec": {
   "display_name": "Python 2",
   "language": "python",
   "name": "python2"
  },
  "language_info": {
   "codemirror_mode": {
    "name": "ipython",
    "version": 2
   },
   "file_extension": ".py",
   "mimetype": "text/x-python",
   "name": "python",
   "nbconvert_exporter": "python",
   "pygments_lexer": "ipython2",
   "version": "2.7.14"
  }
 },
 "nbformat": 4,
 "nbformat_minor": 2
}
